{
 "cells": [
  {
   "cell_type": "markdown",
   "metadata": {},
   "source": []
  },
  {
   "cell_type": "markdown",
   "metadata": {},
   "source": [
    "# Calculating the Distribution and Influnce Scores\n",
    "### Our goals and objectives:\n",
    "- First, we will calculate the memorization score for every idx in the training data. We will then calculate a distribution score for every idx in the pickle, and quantify the relationship between memorization score and the distribution score.\n",
    "- There are many different ways to quantify the distribution score such as bubbling, concentric rings (determining density as a function of radius from the point), bubbling the areas and giving greater weight to some areas\n",
    "- Objective: Determine a metric to predict memorization based on distribution\n",
    "- Background: We know that sparseness gives memorization, and we see long tail distributions where samples at the end of the tail are memorized. We are looking for monotonic distribution\n",
    "- Memorization is F1 score (with) - F1 (without), and depends on number of samples, but likely depends mostly on density of simmilar points near the sample, but also diversity of sample. \n",
    "\n",
    "Next steps: Influnce score\n",
    "- Influence score: \n",
    "- 1000 x1000 matrix or IiI,j) influence of i on j. If i is in the training data (and j is not), \n",
    "- I (I,j) = Pj (I in TR)- Pj (I in TR). How the model reacts to j weather or not it has seen j before. This is influence score.\n",
    "- continue the calculation per molecule type\n",
    "\n",
    "\n",
    "\n"
   ]
  },
  {
   "cell_type": "markdown",
   "metadata": {},
   "source": []
  },
  {
   "cell_type": "markdown",
   "metadata": {},
   "source": [
    "## Loading in and sorting nessesary data by Mol. Type"
   ]
  },
  {
   "cell_type": "code",
   "execution_count": 102,
   "metadata": {},
   "outputs": [],
   "source": [
    "import pandas as pd\n",
    "import pickle\n",
    "import os\n",
    "import numpy as np\n",
    "import matplotlib.pyplot as plt\n",
    "from scipy.optimize import curve_fit\n",
    "\n",
    "tr_data = []  # Empty list to hold TR data\n",
    "vl_data = []  # Empty list to hold VL data\n",
    "memorization_score = []  # Empty list to hold memorization scores\n",
    "\n",
    "data_path = '/Users/ilanastern/Documents/GitHub/aiConfidential/data' \n",
    "\n",
    "# Walk through all directories and subdirectories in the 'data' folder\n",
    "for root, dirs, files in os.walk(data_path):\n",
    "    if root.endswith('_TR.eval') or root.endswith('_VL.eval'): # Check if we are in a TR.eval or VL.eval folder\n",
    "        for file in files:\n",
    "            if file.startswith('eval_loss_meta'): # Check if the file is 'eval_loss_meta'\n",
    "                file_path = os.path.join(root, file)\n",
    "                # Read the file into a DataFrame\n",
    "                df = pd.read_csv(file_path)\n",
    "                # Append to the appropriate list\n",
    "                if root.endswith('_TR.eval'):\n",
    "                    tr_data.append(df)\n",
    "                elif root.endswith('_VL.eval'):\n",
    "                    vl_data.append(df)\n",
    "\n",
    "# Concatenate all dataframes into one for TR and one for VL\n",
    "tr_df = pd.concat(tr_data, ignore_index=True)\n",
    "vl_df = pd.concat(vl_data, ignore_index=True)\n",
    "\n",
    "combined_df = pd.concat([tr_df, vl_df], ignore_index=True) # Concatenating the TR and VL dataframes\n",
    "\n",
    "tr_df_sorted = tr_df.sort_values(by='moltype') # sorting the data by moltype\n",
    "vl_df_sorted = vl_df.sort_values(by='moltype')\n"
   ]
  },
  {
   "cell_type": "markdown",
   "metadata": {},
   "source": []
  },
  {
   "cell_type": "markdown",
   "metadata": {},
   "source": [
    "## Distribution Score Modeled as Exponential Decay"
   ]
  },
  {
   "cell_type": "code",
   "execution_count": 103,
   "metadata": {},
   "outputs": [
    {
     "name": "stdout",
     "output_type": "stream",
     "text": [
      "        idx  similarity_score\n",
      "0     34661       1977.292285\n",
      "1     31262       2548.249572\n",
      "2     37294         25.760373\n",
      "3     34263       1682.328120\n",
      "4     27176        230.464788\n",
      "...     ...               ...\n",
      "3408  26367        479.211166\n",
      "3409  31446        732.201755\n",
      "3410  28360        834.732351\n",
      "3411  27863        622.818511\n",
      "3412  17264       1175.048737\n",
      "\n",
      "[3413 rows x 2 columns]\n"
     ]
    }
   ],
   "source": [
    "# Open the pickle file in read-binary mode and load the data\n",
    "with open('/Users/ilanastern/Documents/GitHub/aiConfidential/nr80-vs-nr80.rnaforester.alnIdentity_pairwise.pkl', 'rb') as file:\n",
    "    data = pickle.load(file)\n",
    "\n",
    "data_df = pd.DataFrame(data)  # Renamed file to 'data_df'\n",
    "\n",
    "# Rename idx values to stop before the first underscore so idx values match up to memorization score data\n",
    "data_df.index = data_df.index.map(lambda x: str(x).split('_', 1)[0])\n",
    "data_df.columns = data_df.columns.map(lambda x: str(x).split('_', 1)[0])\n",
    "\n",
    "# Constants for the exponential decay function that I used to model the distribution scores, Values closest to 1 have the highest points (10)\n",
    "#Values below 0.5 are worth 0 points. The function is A * exp(-B * (1 - score)) Values of 0.5 are worth 1 point\n",
    "\n",
    "A = 10  # Maximum points for the highest score (close to 1)\n",
    "B = np.log(A / 1) / (1 - 0)  # Solve for B based on the condition that 0.5 maps to 0 point\n",
    "\n",
    "# Function to map similarity score to points based on the new rules\n",
    "def map_similarity_to_points(score):\n",
    "    if pd.isna(score):  # Ignore NaN values\n",
    "        return 0\n",
    "    elif score >= 1:  # Ignore scores that are 1 or greater\n",
    "        return 0\n",
    "    elif score < 0.5:  # Return 0 points for scores less than 0.5\n",
    "        return 0\n",
    "    else:  # Apply the exponential decay function for scores between 0.5 and 1\n",
    "        return A * np.exp(-B * (1 - score))\n",
    "\n",
    "similarity_scores = {} # Empty dictionary to hold similarity scores\n",
    "\n",
    "for idx, row in data_df.iterrows(): # Iterate over each row (which corresponds to an 'idx')\n",
    "    # Apply the mapping function to each similarity score in the row and sum the points, ignoring NaN\n",
    "    points = row.apply(map_similarity_to_points).sum()\n",
    "    # Store the total points as the overall similarity score for this 'idx'\n",
    "    similarity_scores[idx] = points\n",
    "\n",
    "similarity_scores_df = pd.DataFrame(list(similarity_scores.items()), columns=['idx', 'similarity_score']) # Convert the results to a DataFrame\n",
    "print(similarity_scores_df)\n"
   ]
  },
  {
   "cell_type": "markdown",
   "metadata": {},
   "source": [
    "## Assigning 'idx' extracted from the pickle to a Mol. Type"
   ]
  },
  {
   "cell_type": "code",
   "execution_count": 104,
   "metadata": {},
   "outputs": [
    {
     "name": "stdout",
     "output_type": "stream",
     "text": [
      "      moltype  avg_similarity_score\n",
      "0    16S-rRNA            188.653674\n",
      "1    23S-rRNA             21.891712\n",
      "2     5S-rRNA           1206.402266\n",
      "3      RNaseP            191.251985\n",
      "4         SRP             55.819339\n",
      "5        TERC             38.200749\n",
      "6  gpI-intron            143.918434\n",
      "7        tRNA           1965.146703\n",
      "8       tmRNA            111.271942\n"
     ]
    }
   ],
   "source": [
    "combined_df['idx'] = combined_df['idx'].astype(str)  # Making sure both idx columns have the same type (int64 or object)\n",
    "similarity_scores_df['idx'] = similarity_scores_df['idx'].astype(str)\n",
    "df_merged = pd.merge(combined_df, similarity_scores_df, on='idx', how='left') #merging the simmilarity score to the dataframe containing the moltype\n",
    "df_avg_similarity_by_idx = df_merged.groupby('idx').agg({'similarity_score': 'mean'}).reset_index() # Group by 'idx' and calculate the average of 'similarity_score'\n",
    "df_avg_similarity_by_moltype = df_merged.groupby('moltype')['similarity_score'].mean().reset_index() # Finding average similarity score by moltype\n",
    "df_avg_similarity_by_moltype = df_avg_similarity_by_moltype.rename(columns={'similarity_score': 'avg_similarity_score'}) # Renaming the column\n",
    "print(df_avg_similarity_by_moltype)"
   ]
  },
  {
   "cell_type": "markdown",
   "metadata": {},
   "source": [
    "## Calculating Memorization Score For each Moltype (copied from PerformanceEval.ipynb)"
   ]
  },
  {
   "cell_type": "code",
   "execution_count": 105,
   "metadata": {},
   "outputs": [
    {
     "name": "stdout",
     "output_type": "stream",
     "text": [
      "      moltype  TR F1 Score  VL F1 Score  Memorization Score  TR pop.  VR pop.\n",
      "0    16S-rRNA     0.645861     0.514832            0.131029     3600     3225\n",
      "1    23S-rRNA     0.695364     0.485277            0.210088      525      450\n",
      "2     5S-rRNA     0.995298     0.938023            0.057275    17925    18300\n",
      "3      RNaseP     0.813765     0.690094            0.123671     7500     7200\n",
      "4         SRP     0.841506     0.584715            0.256791     6825     6525\n",
      "5        TERC     0.500378     0.396180            0.104198      675      450\n",
      "6  gpI-intron     0.840165     0.755507            0.084658    23625    24225\n",
      "7        tRNA     0.999435     0.981216            0.018219    38100    38625\n",
      "8       tmRNA     0.723190     0.621162            0.102027     7800     7650\n"
     ]
    }
   ],
   "source": [
    "tr_df_sorted = tr_df.sort_values(by='moltype') # sorting the data by moltype\n",
    "vl_df_sorted = vl_df.sort_values(by='moltype')\n",
    "\n",
    "# Create separate dataframes for each 'moltype' in TR and VL\n",
    "tr_moltype_groups = {moltype: group for moltype, group in tr_df_sorted.groupby('moltype')}\n",
    "vl_moltype_groups = {moltype: group for moltype, group in vl_df_sorted.groupby('moltype')}\n",
    "\n",
    "tr_f1_scores = [] # Empty lists to hold the moltype name and F1 scores for TR and VL data\n",
    "vl_f1_scores = []\n",
    "table_data = [] #empty list to hold the data for the table\n",
    "\n",
    "# Calculate average F1 score for each molecule type in TR and VL data\n",
    "for moltype, df in tr_moltype_groups.items():\n",
    "    avg_f1 = df['f1'].mean()  # calculates the average F1 score for each molecule type\n",
    "    tr_f1_scores.append((moltype, avg_f1))  # appends the moltype name and average F1 score as a tuple\n",
    "\n",
    "for moltype, df in vl_moltype_groups.items():\n",
    "    avg_f1 = df['f1'].mean()\n",
    "    vl_f1_scores.append((moltype, avg_f1))  # appends the moltype name and average F1 score as a tuple\n",
    "\n",
    "vl_f1_dict = dict(vl_f1_scores) # Create a dictionary for VL F1 scores for easier lookup\n",
    "\n",
    "# Generate the data for the table\n",
    "for moltype, tr_f1 in tr_f1_scores:\n",
    "    if moltype in vl_f1_dict:\n",
    "        vl_f1 = vl_f1_dict[moltype]\n",
    "        diff = tr_f1 - vl_f1\n",
    "        num_datapoints_tr = len(tr_moltype_groups[moltype])  # Number of datapoints in TR\n",
    "        num_datapoints_vl = len(vl_moltype_groups[moltype])  # Number of datapoints in VL\n",
    "        table_data.append({\n",
    "            'moltype': moltype,\n",
    "            'TR F1 Score': tr_f1,\n",
    "            'VL F1 Score': vl_f1,\n",
    "            'Memorization Score': diff,\n",
    "            'TR pop.': num_datapoints_tr,\n",
    "            'VR pop.': num_datapoints_vl })\n",
    "            \n",
    "memorization_score_df1 = pd.DataFrame(table_data) #DF for all data\n",
    "print(memorization_score_df1)"
   ]
  },
  {
   "cell_type": "markdown",
   "metadata": {},
   "source": [
    "## Plotting the memorization score vs. the average similarity score"
   ]
  },
  {
   "cell_type": "code",
   "execution_count": 108,
   "metadata": {},
   "outputs": [
    {
     "name": "stderr",
     "output_type": "stream",
     "text": [
      "/Users/ilanastern/anaconda3/lib/python3.11/site-packages/pandas/core/arraylike.py:402: RuntimeWarning: overflow encountered in exp\n",
      "  result = getattr(ufunc, method)(*inputs, **kwargs)\n"
     ]
    },
    {
     "data": {
      "image/png": "[encoded data removed]",
      "text/plain": [
       "<Figure size 1000x600 with 1 Axes>"
      ]
     },
     "metadata": {},
     "output_type": "display_data"
    },
    {
     "name": "stdout",
     "output_type": "stream",
     "text": [
      "The exponential decay equation is: y = 0.17 * exp(-0.00 * x) + 0.04\n"
     ]
    }
   ],
   "source": [
    "def exp_decay(x, a, b, c): # Exponential decay function to fit the data\n",
    "    return a * np.exp(-b * x) + c\n",
    "\n",
    "# Merging df that contains the memorization score and the df that contains the average similarity score by moltype\n",
    "df_merged_scores = pd.merge(memorization_score_df1, df_avg_similarity_by_moltype, on='moltype', how='inner')\n",
    "\n",
    "# Fitting data\n",
    "x = df_merged_scores['avg_similarity_score']\n",
    "y = df_merged_scores['Memorization Score']\n",
    "initial_guess = [1, 1, 1]  # Initial guess for parameters a, b, c\n",
    "params, covariance = curve_fit(exp_decay, x, y, p0=initial_guess)\n",
    "x_fit = np.linspace(min(x), max(x), 500) # Generate x values for the fitted curve\n",
    "y_fit = exp_decay(x_fit, *params)\n",
    "\n",
    "# Plotting\n",
    "plt.figure(figsize=(10, 6))\n",
    "plt.scatter(x, y, color='blue', label='Data points')\n",
    "plt.plot(x_fit, y_fit, color='red', label=f'Exp. Decay fit: {params[0]:.2f} * exp(-{params[1]:.2f} * x) + {params[2]:.2f}')\n",
    "plt.xlabel('Distribution Score (Avg Similarity Score)')\n",
    "plt.ylabel('Memorization Score')\n",
    "plt.title('Memorization Score vs Distribution Score with Exponential Decay Fit')\n",
    "plt.legend()\n",
    "plt.show()\n",
    "print(f'The exponential decay equation is: y = {params[0]:.2f} * e^(-{params[1]:.2f} * x) + {params[2]:.2f}')\n"
   ]
  }
 ],
 "metadata": {
  "kernelspec": {
   "display_name": "base",
   "language": "python",
   "name": "python3"
  },
  "language_info": {
   "codemirror_mode": {
    "name": "ipython",
    "version": 3
   },
   "file_extension": ".py",
   "mimetype": "text/x-python",
   "name": "python",
   "nbconvert_exporter": "python",
   "pygments_lexer": "ipython3",
   "version": "3.11.4"
  }
 },
 "nbformat": 4,
 "nbformat_minor": 2
}
