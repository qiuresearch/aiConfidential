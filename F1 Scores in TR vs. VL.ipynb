{
 "cells": [
  {
   "cell_type": "markdown",
   "id": "eae98690",
   "metadata": {},
   "source": [
    "## Averaging F1 scores for TR"
   ]
  },
  {
   "cell_type": "code",
   "execution_count": 127,
   "id": "9b0c7758",
   "metadata": {},
   "outputs": [
    {
     "name": "stdout",
     "output_type": "stream",
     "text": [
      " The shape of the data frame is (22736, 21)\n"
     ]
    },
    {
     "data": {
      "text/html": [
       "<div>\n",
       "<style scoped>\n",
       "    .dataframe tbody tr th:only-of-type {\n",
       "        vertical-align: middle;\n",
       "    }\n",
       "\n",
       "    .dataframe tbody tr th {\n",
       "        vertical-align: top;\n",
       "    }\n",
       "\n",
       "    .dataframe thead th {\n",
       "        text-align: right;\n",
       "    }\n",
       "</style>\n",
       "<table border=\"1\" class=\"dataframe\">\n",
       "  <thead>\n",
       "    <tr style=\"text-align: right;\">\n",
       "      <th></th>\n",
       "      <th>batch</th>\n",
       "      <th>idx</th>\n",
       "      <th>len</th>\n",
       "      <th>loss</th>\n",
       "      <th>loss_std</th>\n",
       "      <th>objective</th>\n",
       "      <th>pre</th>\n",
       "      <th>f1</th>\n",
       "      <th>acc</th>\n",
       "      <th>rec</th>\n",
       "      <th>...</th>\n",
       "      <th>idx_label</th>\n",
       "      <th>moltype</th>\n",
       "      <th>file</th>\n",
       "      <th>db</th>\n",
       "      <th>id</th>\n",
       "      <th>pre_var</th>\n",
       "      <th>f1_var</th>\n",
       "      <th>acc_var</th>\n",
       "      <th>rec_var</th>\n",
       "      <th>mcc_var</th>\n",
       "    </tr>\n",
       "  </thead>\n",
       "  <tbody>\n",
       "    <tr>\n",
       "      <th>0</th>\n",
       "      <td>0</td>\n",
       "      <td>24824</td>\n",
       "      <td>267</td>\n",
       "      <td>0.157885</td>\n",
       "      <td>0.0</td>\n",
       "      <td>0.842114</td>\n",
       "      <td>0.793822</td>\n",
       "      <td>0.842114</td>\n",
       "      <td>0.999217</td>\n",
       "      <td>0.896664</td>\n",
       "      <td>...</td>\n",
       "      <td>24824</td>\n",
       "      <td>SRP</td>\n",
       "      <td>24824_24824_Ther.teng._AE012978.ct</td>\n",
       "      <td>stralign</td>\n",
       "      <td>24824_24824_Ther.teng._AE012978</td>\n",
       "      <td>0.006477</td>\n",
       "      <td>0.004727</td>\n",
       "      <td>0.000016</td>\n",
       "      <td>0.005047</td>\n",
       "      <td>0.006880</td>\n",
       "    </tr>\n",
       "    <tr>\n",
       "      <th>1</th>\n",
       "      <td>1</td>\n",
       "      <td>40296</td>\n",
       "      <td>85</td>\n",
       "      <td>0.000003</td>\n",
       "      <td>0.0</td>\n",
       "      <td>0.999997</td>\n",
       "      <td>0.999997</td>\n",
       "      <td>0.999997</td>\n",
       "      <td>1.000000</td>\n",
       "      <td>0.999996</td>\n",
       "      <td>...</td>\n",
       "      <td>40296</td>\n",
       "      <td>tRNA</td>\n",
       "      <td>40296_3147_tRNA_tdbR00000250-Saccharomyces_cer...</td>\n",
       "      <td>archiveii</td>\n",
       "      <td>40296_3147_tRNA_tdbR00000250-Saccharomyces_cer...</td>\n",
       "      <td>0.000491</td>\n",
       "      <td>0.000292</td>\n",
       "      <td>0.000002</td>\n",
       "      <td>0.000295</td>\n",
       "      <td>0.000491</td>\n",
       "    </tr>\n",
       "    <tr>\n",
       "      <th>2</th>\n",
       "      <td>2</td>\n",
       "      <td>25941</td>\n",
       "      <td>409</td>\n",
       "      <td>0.111141</td>\n",
       "      <td>0.0</td>\n",
       "      <td>0.888859</td>\n",
       "      <td>0.968627</td>\n",
       "      <td>0.888859</td>\n",
       "      <td>0.999723</td>\n",
       "      <td>0.821229</td>\n",
       "      <td>...</td>\n",
       "      <td>25941</td>\n",
       "      <td>gpI-intron</td>\n",
       "      <td>25941_25941_Cri.S1506.ct</td>\n",
       "      <td>stralign</td>\n",
       "      <td>25941_25941_Cri.S1506</td>\n",
       "      <td>0.004536</td>\n",
       "      <td>0.002837</td>\n",
       "      <td>0.000004</td>\n",
       "      <td>0.002628</td>\n",
       "      <td>0.004177</td>\n",
       "    </tr>\n",
       "    <tr>\n",
       "      <th>3</th>\n",
       "      <td>3</td>\n",
       "      <td>28231</td>\n",
       "      <td>76</td>\n",
       "      <td>0.000002</td>\n",
       "      <td>0.0</td>\n",
       "      <td>0.999998</td>\n",
       "      <td>0.999999</td>\n",
       "      <td>0.999998</td>\n",
       "      <td>1.000000</td>\n",
       "      <td>0.999996</td>\n",
       "      <td>...</td>\n",
       "      <td>28231</td>\n",
       "      <td>tRNA</td>\n",
       "      <td>28231_28231_tdbD00002953.ct</td>\n",
       "      <td>stralign</td>\n",
       "      <td>28231_28231_tdbD00002953</td>\n",
       "      <td>0.000446</td>\n",
       "      <td>0.000290</td>\n",
       "      <td>0.000002</td>\n",
       "      <td>0.000294</td>\n",
       "      <td>0.000446</td>\n",
       "    </tr>\n",
       "    <tr>\n",
       "      <th>4</th>\n",
       "      <td>4</td>\n",
       "      <td>31007</td>\n",
       "      <td>73</td>\n",
       "      <td>0.000002</td>\n",
       "      <td>0.0</td>\n",
       "      <td>0.999998</td>\n",
       "      <td>0.999999</td>\n",
       "      <td>0.999998</td>\n",
       "      <td>1.000000</td>\n",
       "      <td>0.999996</td>\n",
       "      <td>...</td>\n",
       "      <td>31007</td>\n",
       "      <td>tRNA</td>\n",
       "      <td>31007_31007_tdbD00006255.ct</td>\n",
       "      <td>stralign</td>\n",
       "      <td>31007_31007_tdbD00006255</td>\n",
       "      <td>0.000456</td>\n",
       "      <td>0.000297</td>\n",
       "      <td>0.000003</td>\n",
       "      <td>0.000301</td>\n",
       "      <td>0.000456</td>\n",
       "    </tr>\n",
       "  </tbody>\n",
       "</table>\n",
       "<p>5 rows × 21 columns</p>\n",
       "</div>"
      ],
      "text/plain": [
       "   batch    idx  len      loss  loss_std  objective       pre        f1  \\\n",
       "0      0  24824  267  0.157885       0.0   0.842114  0.793822  0.842114   \n",
       "1      1  40296   85  0.000003       0.0   0.999997  0.999997  0.999997   \n",
       "2      2  25941  409  0.111141       0.0   0.888859  0.968627  0.888859   \n",
       "3      3  28231   76  0.000002       0.0   0.999998  0.999999  0.999998   \n",
       "4      4  31007   73  0.000002       0.0   0.999998  0.999999  0.999998   \n",
       "\n",
       "        acc       rec  ...  idx_label     moltype  \\\n",
       "0  0.999217  0.896664  ...      24824         SRP   \n",
       "1  1.000000  0.999996  ...      40296        tRNA   \n",
       "2  0.999723  0.821229  ...      25941  gpI-intron   \n",
       "3  1.000000  0.999996  ...      28231        tRNA   \n",
       "4  1.000000  0.999996  ...      31007        tRNA   \n",
       "\n",
       "                                                file         db  \\\n",
       "0                 24824_24824_Ther.teng._AE012978.ct   stralign   \n",
       "1  40296_3147_tRNA_tdbR00000250-Saccharomyces_cer...  archiveii   \n",
       "2                           25941_25941_Cri.S1506.ct   stralign   \n",
       "3                        28231_28231_tdbD00002953.ct   stralign   \n",
       "4                        31007_31007_tdbD00006255.ct   stralign   \n",
       "\n",
       "                                                  id   pre_var    f1_var  \\\n",
       "0                    24824_24824_Ther.teng._AE012978  0.006477  0.004727   \n",
       "1  40296_3147_tRNA_tdbR00000250-Saccharomyces_cer...  0.000491  0.000292   \n",
       "2                              25941_25941_Cri.S1506  0.004536  0.002837   \n",
       "3                           28231_28231_tdbD00002953  0.000446  0.000290   \n",
       "4                           31007_31007_tdbD00006255  0.000456  0.000297   \n",
       "\n",
       "    acc_var   rec_var   mcc_var  \n",
       "0  0.000016  0.005047  0.006880  \n",
       "1  0.000002  0.000295  0.000491  \n",
       "2  0.000004  0.002628  0.004177  \n",
       "3  0.000002  0.000294  0.000446  \n",
       "4  0.000003  0.000301  0.000456  \n",
       "\n",
       "[5 rows x 21 columns]"
      ]
     },
     "execution_count": 127,
     "metadata": {},
     "output_type": "execute_result"
    }
   ],
   "source": [
    "import glob\n",
    "import pandas as pd\n",
    "\n",
    "files = glob.glob('*.csv') #loading all csvs into data frame\n",
    "dfs = [] #empty list\n",
    "for i in range(2, 18): #Loop to only load certain files to seperate TR from VL\n",
    "    file_name = f'eval_loss_meta-{i}.csv'\n",
    "    df = pd.read_csv(file_name)\n",
    "    dfs.append(df)\n",
    "\n",
    "df = pd.concat(dfs) #concatinate\n",
    "print(f\" The shape of the data frame is {df.shape}\") \n",
    "df.head()"
   ]
  },
  {
   "cell_type": "code",
   "execution_count": 132,
   "id": "7e9bc13b",
   "metadata": {},
   "outputs": [
    {
     "name": "stdout",
     "output_type": "stream",
     "text": [
      "The shape of the data frame is (1421, 2)\n"
     ]
    },
    {
     "data": {
      "text/html": [
       "<div>\n",
       "<style scoped>\n",
       "    .dataframe tbody tr th:only-of-type {\n",
       "        vertical-align: middle;\n",
       "    }\n",
       "\n",
       "    .dataframe tbody tr th {\n",
       "        vertical-align: top;\n",
       "    }\n",
       "\n",
       "    .dataframe thead th {\n",
       "        text-align: right;\n",
       "    }\n",
       "</style>\n",
       "<table border=\"1\" class=\"dataframe\">\n",
       "  <thead>\n",
       "    <tr style=\"text-align: right;\">\n",
       "      <th></th>\n",
       "      <th>idx</th>\n",
       "      <th>f1</th>\n",
       "    </tr>\n",
       "  </thead>\n",
       "  <tbody>\n",
       "    <tr>\n",
       "      <th>0</th>\n",
       "      <td>1649</td>\n",
       "      <td>0.570921</td>\n",
       "    </tr>\n",
       "    <tr>\n",
       "      <th>1</th>\n",
       "      <td>2725</td>\n",
       "      <td>0.540182</td>\n",
       "    </tr>\n",
       "    <tr>\n",
       "      <th>2</th>\n",
       "      <td>2791</td>\n",
       "      <td>0.660586</td>\n",
       "    </tr>\n",
       "    <tr>\n",
       "      <th>3</th>\n",
       "      <td>3238</td>\n",
       "      <td>0.639033</td>\n",
       "    </tr>\n",
       "    <tr>\n",
       "      <th>4</th>\n",
       "      <td>3717</td>\n",
       "      <td>0.683634</td>\n",
       "    </tr>\n",
       "  </tbody>\n",
       "</table>\n",
       "</div>"
      ],
      "text/plain": [
       "    idx        f1\n",
       "0  1649  0.570921\n",
       "1  2725  0.540182\n",
       "2  2791  0.660586\n",
       "3  3238  0.639033\n",
       "4  3717  0.683634"
      ]
     },
     "execution_count": 132,
     "metadata": {},
     "output_type": "execute_result"
    }
   ],
   "source": [
    "idxsorted = df.groupby('idx')['f1'].mean().reset_index() #Averaging the f1 score per idx\n",
    "print(f\"The shape of the data frame is {idxsorted.shape}\") #You can see that columns have been combined by the shortened length\n",
    "idxsorted.head()"
   ]
  },
  {
   "cell_type": "code",
   "execution_count": 129,
   "id": "31b13fd2",
   "metadata": {},
   "outputs": [
    {
     "name": "stdout",
     "output_type": "stream",
     "text": [
      "0.9069758542651073\n"
     ]
    }
   ],
   "source": [
    "f1scoreTR= idxsorted['f1'].mean()\n",
    "print(f1scoreTR)"
   ]
  },
  {
   "cell_type": "markdown",
   "id": "1eb19aca",
   "metadata": {},
   "source": [
    "## VL data"
   ]
  },
  {
   "cell_type": "code",
   "execution_count": 133,
   "id": "dd479530",
   "metadata": {},
   "outputs": [
    {
     "name": "stdout",
     "output_type": "stream",
     "text": [
      "0.841064050807875\n"
     ]
    }
   ],
   "source": [
    "#Repeated code as above with VL data\n",
    "files = glob.glob('*.csv') #loading all csvs into data frame\n",
    "dfsVL = [] #empty list\n",
    "for i in range(19, 29): #Loop to only VL files\n",
    "    file_nameVL = f'eval_loss_meta-{i}.csv'\n",
    "    dfVL = pd.read_csv(file_nameVL)\n",
    "    dfsVL.append(dfVL)\n",
    "\n",
    "dfVL = pd.concat(dfsVL) #concatinate\n",
    "idxVLsorted = dfVL.groupby('idx')['f1'].mean().reset_index() #Averaging \n",
    "f1scoreVL= idxVLsorted['f1'].mean()\n",
    "print(f1scoreVL)"
   ]
  },
  {
   "cell_type": "code",
   "execution_count": 134,
   "id": "cbfce0e2",
   "metadata": {},
   "outputs": [
    {
     "name": "stdout",
     "output_type": "stream",
     "text": [
      "0.06591180345723224\n"
     ]
    }
   ],
   "source": [
    "memscore= f1scoreTR-f1scoreVL\n",
    "print(memscore)"
   ]
  },
  {
   "cell_type": "code",
   "execution_count": null,
   "id": "98830881",
   "metadata": {},
   "outputs": [],
   "source": []
  }
 ],
 "metadata": {
  "kernelspec": {
   "display_name": "Python 3 (ipykernel)",
   "language": "python",
   "name": "python3"
  },
  "language_info": {
   "codemirror_mode": {
    "name": "ipython",
    "version": 3
   },
   "file_extension": ".py",
   "mimetype": "text/x-python",
   "name": "python",
   "nbconvert_exporter": "python",
   "pygments_lexer": "ipython3",
   "version": "3.11.4"
  }
 },
 "nbformat": 4,
 "nbformat_minor": 5
}
